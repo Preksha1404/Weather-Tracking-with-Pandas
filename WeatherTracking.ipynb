{
 "cells": [
  {
   "cell_type": "markdown",
   "id": "2e20bced-0500-4302-a379-2ecb6ff08816",
   "metadata": {},
   "source": [
    "## Weather Tracking with Pandas: Fetch live weather data from a public API (e.g., OpenWeatherMap) and store it daily using Pandas for processing"
   ]
  },
  {
   "cell_type": "code",
   "execution_count": 1,
   "id": "4640303b-f8af-4bf8-a62c-33a089a35352",
   "metadata": {},
   "outputs": [],
   "source": [
    "import requests\n",
    "\n",
    "city_name=\"Ahmedabad\",\n",
    "limit=5\n",
    "\n",
    "api_url = f\"http://api.openweathermap.org/geo/1.0/direct?q={city_name}&limit={limit}&appid={API_key}\"\n",
    "response = requests.get(api_url)"
   ]
  },
  {
   "cell_type": "code",
   "execution_count": 2,
   "id": "07d58fb2-2da5-4e6d-a2f8-78cb08ee7f5a",
   "metadata": {},
   "outputs": [
    {
     "data": {
      "text/plain": [
       "(23.0215374, 72.5800568)"
      ]
     },
     "execution_count": 2,
     "metadata": {},
     "output_type": "execute_result"
    }
   ],
   "source": [
    "data=response.json()\n",
    "first_city = data[0]\n",
    "lat = first_city[\"lat\"]\n",
    "lon = first_city[\"lon\"]\n",
    "lat, lon"
   ]
  },
  {
   "cell_type": "code",
   "execution_count": 3,
   "id": "18e536e1-229d-4d93-ab56-2199e27c1baa",
   "metadata": {},
   "outputs": [
    {
     "data": {
      "text/plain": [
       "<Response [200]>"
      ]
     },
     "execution_count": 3,
     "metadata": {},
     "output_type": "execute_result"
    }
   ],
   "source": [
    "# lat,lon\n",
    "url = f\"https://api.openweathermap.org/data/2.5/weather?lat={lat}&lon={lon}&appid={API_key}\"\n",
    "response = requests.get(url)\n",
    "response"
   ]
  },
  {
   "cell_type": "code",
   "execution_count": 4,
   "id": "cc5e103e-12de-4e8a-9119-de35105bf8a2",
   "metadata": {},
   "outputs": [
    {
     "data": {
      "text/plain": [
       "{'coord': {'lon': 72.5801, 'lat': 23.0215},\n",
       " 'weather': [{'id': 804,\n",
       "   'main': 'Clouds',\n",
       "   'description': 'overcast clouds',\n",
       "   'icon': '04d'}],\n",
       " 'base': 'stations',\n",
       " 'main': {'temp': 305.74,\n",
       "  'feels_like': 311.64,\n",
       "  'temp_min': 305.74,\n",
       "  'temp_max': 305.74,\n",
       "  'pressure': 1003,\n",
       "  'humidity': 60,\n",
       "  'sea_level': 1003,\n",
       "  'grnd_level': 997},\n",
       " 'visibility': 10000,\n",
       " 'wind': {'speed': 2.59, 'deg': 290, 'gust': 2.62},\n",
       " 'clouds': {'all': 100},\n",
       " 'dt': 1756450203,\n",
       " 'sys': {'country': 'IN', 'sunrise': 1756428669, 'sunset': 1756474238},\n",
       " 'timezone': 19800,\n",
       " 'id': 1279233,\n",
       " 'name': 'Ahmedabad',\n",
       " 'cod': 200}"
      ]
     },
     "execution_count": 4,
     "metadata": {},
     "output_type": "execute_result"
    }
   ],
   "source": [
    "data=response.json()\n",
    "data"
   ]
  },
  {
   "cell_type": "code",
   "execution_count": 5,
   "id": "5df5a2e0-e761-4c3f-9343-eb9c3be990eb",
   "metadata": {},
   "outputs": [
    {
     "data": {
      "text/plain": [
       "{'city': 'Ahmedabad',\n",
       " 'country': 'IN',\n",
       " 'timezone': 19800,\n",
       " 'weather_main': 'Clouds',\n",
       " 'weather_description': 'overcast clouds',\n",
       " 'temp': 305.74,\n",
       " 'feels_like': 311.64,\n",
       " 'temp_min': 305.74,\n",
       " 'temp_max': 305.74,\n",
       " 'pressure': 1003,\n",
       " 'humidity': 60,\n",
       " 'visibility': 10000,\n",
       " 'wind_speed': 2.59,\n",
       " 'sunrise': 1756428669,\n",
       " 'sunset': 1756474238,\n",
       " 'timestamp': 1756450203}"
      ]
     },
     "execution_count": 5,
     "metadata": {},
     "output_type": "execute_result"
    }
   ],
   "source": [
    "weather = {\n",
    "    \"city\": data.get(\"name\"),\n",
    "    \"country\": data.get(\"sys\", {}).get(\"country\"),\n",
    "    \"timezone\": data.get(\"timezone\"),\n",
    "    \"weather_main\": data.get(\"weather\", [{}])[0].get(\"main\"),\n",
    "    \"weather_description\": data.get(\"weather\", [{}])[0].get(\"description\"),\n",
    "    \"temp\": data.get(\"main\", {}).get(\"temp\"),\n",
    "    \"feels_like\": data.get(\"main\", {}).get(\"feels_like\"),\n",
    "    \"temp_min\": data.get(\"main\", {}).get(\"temp_min\"),\n",
    "    \"temp_max\": data.get(\"main\", {}).get(\"temp_max\"),\n",
    "    \"pressure\": data.get(\"main\", {}).get(\"pressure\"),\n",
    "    \"humidity\": data.get(\"main\", {}).get(\"humidity\"),\n",
    "    \"visibility\": data.get(\"visibility\"),\n",
    "    \"wind_speed\": data.get(\"wind\", {}).get(\"speed\"),\n",
    "    \"sunrise\": data.get(\"sys\", {}).get(\"sunrise\"),\n",
    "    \"sunset\": data.get(\"sys\", {}).get(\"sunset\"),\n",
    "    \"timestamp\": data.get(\"dt\"),\n",
    "}\n",
    "\n",
    "weather"
   ]
  },
  {
   "cell_type": "code",
   "execution_count": 6,
   "id": "d2194b8d-c18b-4cbc-98fb-dfc0e055f875",
   "metadata": {},
   "outputs": [
    {
     "data": {
      "text/html": [
       "<div>\n",
       "<style scoped>\n",
       "    .dataframe tbody tr th:only-of-type {\n",
       "        vertical-align: middle;\n",
       "    }\n",
       "\n",
       "    .dataframe tbody tr th {\n",
       "        vertical-align: top;\n",
       "    }\n",
       "\n",
       "    .dataframe thead th {\n",
       "        text-align: right;\n",
       "    }\n",
       "</style>\n",
       "<table border=\"1\" class=\"dataframe\">\n",
       "  <thead>\n",
       "    <tr style=\"text-align: right;\">\n",
       "      <th></th>\n",
       "      <th>city</th>\n",
       "      <th>country</th>\n",
       "      <th>timezone</th>\n",
       "      <th>weather_main</th>\n",
       "      <th>weather_description</th>\n",
       "      <th>temp</th>\n",
       "      <th>feels_like</th>\n",
       "      <th>temp_min</th>\n",
       "      <th>temp_max</th>\n",
       "      <th>pressure</th>\n",
       "      <th>humidity</th>\n",
       "      <th>visibility</th>\n",
       "      <th>wind_speed</th>\n",
       "      <th>sunrise</th>\n",
       "      <th>sunset</th>\n",
       "      <th>timestamp</th>\n",
       "    </tr>\n",
       "  </thead>\n",
       "  <tbody>\n",
       "    <tr>\n",
       "      <th>0</th>\n",
       "      <td>Ahmedabad</td>\n",
       "      <td>IN</td>\n",
       "      <td>19800</td>\n",
       "      <td>Clouds</td>\n",
       "      <td>overcast clouds</td>\n",
       "      <td>305.74</td>\n",
       "      <td>311.64</td>\n",
       "      <td>305.74</td>\n",
       "      <td>305.74</td>\n",
       "      <td>1003</td>\n",
       "      <td>60</td>\n",
       "      <td>10000</td>\n",
       "      <td>2.59</td>\n",
       "      <td>1756428669</td>\n",
       "      <td>1756474238</td>\n",
       "      <td>1756450203</td>\n",
       "    </tr>\n",
       "  </tbody>\n",
       "</table>\n",
       "</div>"
      ],
      "text/plain": [
       "        city country  timezone weather_main weather_description    temp  \\\n",
       "0  Ahmedabad      IN     19800       Clouds     overcast clouds  305.74   \n",
       "\n",
       "   feels_like  temp_min  temp_max  pressure  humidity  visibility  wind_speed  \\\n",
       "0      311.64    305.74    305.74      1003        60       10000        2.59   \n",
       "\n",
       "      sunrise      sunset   timestamp  \n",
       "0  1756428669  1756474238  1756450203  "
      ]
     },
     "execution_count": 6,
     "metadata": {},
     "output_type": "execute_result"
    }
   ],
   "source": [
    "import pandas as pd\n",
    "df=pd.DataFrame([weather],columns=weather.keys())\n",
    "df"
   ]
  },
  {
   "cell_type": "code",
   "execution_count": 7,
   "id": "a6ada1cf-fc70-4a22-936e-9e60e2fdba30",
   "metadata": {},
   "outputs": [],
   "source": [
    "df.to_csv(\"weather.csv\")"
   ]
  }
 ],
 "metadata": {
  "kernelspec": {
   "display_name": "Python [conda env:base] *",
   "language": "python",
   "name": "conda-base-py"
  },
  "language_info": {
   "codemirror_mode": {
    "name": "ipython",
    "version": 3
   },
   "file_extension": ".py",
   "mimetype": "text/x-python",
   "name": "python",
   "nbconvert_exporter": "python",
   "pygments_lexer": "ipython3",
   "version": "3.13.5"
  }
 },
 "nbformat": 4,
 "nbformat_minor": 5
}
