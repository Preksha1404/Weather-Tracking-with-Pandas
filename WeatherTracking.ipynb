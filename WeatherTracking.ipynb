{
 "cells": [
  {
   "cell_type": "markdown",
   "id": "2e20bced-0500-4302-a379-2ecb6ff08816",
   "metadata": {},
   "source": [
    "## Weather Tracking with Pandas: Fetch live weather data from a public API (e.g., OpenWeatherMap) and store it daily using Pandas for processing"
   ]
  }
 ],
 "metadata": {
  "kernelspec": {
   "display_name": "Python [conda env:base] *",
   "language": "python",
   "name": "conda-base-py"
  },
  "language_info": {
   "codemirror_mode": {
    "name": "ipython",
    "version": 3
   },
   "file_extension": ".py",
   "mimetype": "text/x-python",
   "name": "python",
   "nbconvert_exporter": "python",
   "pygments_lexer": "ipython3",
   "version": "3.13.5"
  }
 },
 "nbformat": 4,
 "nbformat_minor": 5
}
